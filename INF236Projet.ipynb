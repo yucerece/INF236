{
 "cells": [
  {
   "cell_type": "code",
   "execution_count": 303,
   "metadata": {},
   "outputs": [],
   "source": [
    "import streamlit as st\n",
    "import pandas as pd\n",
    "import re"
   ]
  },
  {
   "cell_type": "code",
   "execution_count": 304,
   "metadata": {},
   "outputs": [],
   "source": [
    "Ask = \"\"\"\n",
    "Sevdiğimiz zaman, aşk o kadar büyüktür ki içimize sığmaz; sevdiğimiz insana doğru yayılır, onda kendisini durduran bir yüzey bulur; bizi gidişten daha fazla büyülemesinin sebebiyse, kendimizden çıktığını fark etmeyişimizdir. #Marcel Proust\n",
    "\n",
    "Cehennem nedir? Bence o, sevmeyi başaramamaktan acı çekmektir. #Fyodor Mihailoviç Dostoyevski\n",
    "\n",
    "Aşk, birbirine bakmak değil; birlikte aynı yöne bakmaktır. #Antoine de Saint-Exupéry\n",
    "\n",
    "Aşk, aslında hiç doğal olmayan bir olgudur ki kendini nadiren tekrar eder; ruh yeniden bakire kalamayacak hale gelir ve bir başkasının ruhundaki okyanusa dalacak gücü kendinde yeniden bulamaz. #James Joyce\n",
    "\n",
    "Aşk; iki insanın bilinçlerini birleştirme çabasıdır. Boşuna bir çaba, çünkü insan kendi bilincine mahkumdur. #Jean Paul Sartre\n",
    "\n",
    "Aşkın kötü tarafı insanlara verdiği zevki, eninde sonunda ödetmesidir. Şu veya bu şekilde. Fakat daima ödersiniz. #Ahmet Hamdi Tanpınar\n",
    "\n",
    "Aşk bile salt fizyolojik bir sorundur. Bizim öz irademizle hiç ilişiği yoktur. Gençler sadık kalmak isterler, kalamazlar; yaşlılar sadakatsizlik etmek isterler, edemezler. Söylenecek söz bundan ibaret. #Oscar Wilde\n",
    "\n",
    "İnsan kendini bir kadına duyduğu aşk yüzünden öldürmez. Aşk bizi tüm çıplaklığımız, sefilliğimiz, düşkünlüğümüz ve hiçliğimizle açığa vurduğu için öldürür. #Cesare Pavese\n",
    "\n",
    "Aslında en iyi aşk, değil tanımak, hiç görmediğin kişiye duyulan aşktır. Körler iyi aşık olurlar mesela. #Orhan Pamuk\n",
    "\n",
    "Kim aşık olmuşsa, kendisinin eksik parçalarını arıyordur. Bu yüzden aşık, maşuğunu düşündükçe acı çeker. Bu tıpkı, uzun zamandır görmediğin birinin odasına girdiğinde bulduğun anılar gibidir. #Haruki Murakami\n",
    "\n",
    "Ne kadar çok insanı seversek, asıl sevdiğimiz bir tek kişiyi de o kadar çok ve kuvvetli severiz. Aşk dağıldıkça azalan bir şey değildir. #Sabahattin Ali\n",
    "\n",
    "Sevdiğinin bir başkasıyla mutlu olduğunu görmekten daha acı bir şey varsa, o da sevdiğinin seninle mutsuz olduğunu görmektir. #Gabriel García Márquez\n",
    "\n",
    "Beni bir gün unutacaksan, bir gün bırakıp gideceksen boşuna yorma derdi, boş yere mağaramdan çıkarma beni. Alışkanlıklarımı, özellikle yalnızlığa alışkanlığımı kaybettirme boşuna. #Oğuz Atay\n",
    "\n",
    "İnsan aşık olduğu kişinin aşık olmayı seçtiği kişiye de aşık olur. #Lawrence Durrell\n",
    "\n",
    "Sevmek, sahiplenmenin en güzel yoludur herhalde; sahiplenmek ise sevmenin en çirkin yolu. #José Saramago\n",
    "\n",
    "İnsanlar, aşk üzerindeki görüşlerini değiştirmelidir. Kadınla erkek, cinsel aşkı şimdi olduğu gibi şiir havasına büründürmekten kaçınmalıdır. Bunun yalnızca insanı alçaltan hayvanca bir iş olduğu kabul edilmeli. #Lev Tolstoy\n",
    "\n",
    "Bir kadınla sevişmek ve bir kadınla uyumak iki ayrı tutkudur, sadece farklı değil aynı zamanda da zıt tutkular. Aşk çiftleşme arzusunda duyurmaz kendini, uykuyu paylaşma arzusunda duyurur. #Milan Kundera\n",
    "\n",
    "Bir kadın, sevdiği adamın başka bir kadın tarafından mutlu edildiğini görmektense, onu can çekişirken görmeyi tercih eder. #Honoré de Balzac\n",
    "\n",
    "Aşk yalnızca cinsel olamaz; çünkü o zaman bencilcedir ve bencilce olduğu için de yaratmaz, yıkar. #Vladimir Nabokov\n",
    "\n",
    "İki insan birbirini seviyorsa, buna mutlu bir son yoktur. #Ernest Hemingway\n",
    "\n",
    "Sevilenin kusurlarını hoş görmeyen sevmiyor demektir. #Goethe\n",
    "\n",
    "Erkekler kadınların ilk aşkı, kadınlar da erkeklerin son aşkı olmak ister. #Oscar Wilde\n",
    "\n",
    "Aşkı daima kalbinizde tutun. Çünkü onsuz bir hayat, çiçekleri ölmüş bir bahçe gibidir. #Oscar Wilde\n",
    "\n",
    "Kelebek misalidir aşk, anlamayana ömrü günlük, anlayana bir ömürlük. #Nazım Hikmet\n",
    "\n",
    "Aşk utanma ve çekinmenin olduğu yerde vardır. #Montaigne\n",
    "\"\"\"                         "
   ]
  },
  {
   "cell_type": "code",
   "execution_count": 305,
   "metadata": {},
   "outputs": [],
   "source": [
    "Mutluluk = \"\"\"\n",
    "Mutluluğun tedavi edemediği bir şeye hiçbir ilaç çare olamaz. #Gabriel Garcia Marquez\n",
    "\n",
    "Mutluluk, her şeyin muazzam bir garip rüya olduğunu fark etmeye bağlıdır. #Stephen King\n",
    "\n",
    "Yaşam en yüce mutluluğu, sevildiğine ikna olmuş kişiye sunar; kendisi olduğu için sevilmiş – hatta diyebiliriz ki, kendisine rağmen sevilmiş kişiye. #Victor Hugo\n",
    "\n",
    "Hayatın en büyük mutluluğu sevdiğimizi bilmektir. #Victor Hugo\n",
    "\n",
    "Mutluluğu melankoliden ayıran çizgi, bir bıçak ağzından daha kalın değildir. #Virginia Woolf\n",
    "\n",
    "Mutluluk bir alegori, mutsuzluk ise hikayedir. #Lev Tolstoy\n",
    "\n",
    "Mutluluk bir armağandır ve işin sırrı onu beklemekte değil, geldiğinde memnun olmaktadır. #Charles Dickens\n",
    "\n",
    "Eğer daima an’a odaklanmayı başarırsan, mutlu bir adam olursun. #Paulo Coelho\n",
    "\n",
    "İhtiyatlı davranmanın tüm türleri arasında gerçek mutluluğa en fazla engel olanı, aşkta tedbirdir. #Bertrand Russell\n",
    "\n",
    "Mutluluk, güçle çoğalan; direncin üstesinden gelindiğinde ortaya çıkan bir duygudur. #Friedrich Nietzsche\n",
    "\n",
    "Gülmek hayatın en güzel eylemidir. Ve her ne varsa sizi bundan alıkoyan, onları yok edin. #Charlie Chaplin\n",
    "\n",
    "Mutluluğun sırrı; daha çok olanı aramakta değil, daha azın tadını çıkarma kapasitesine ulaşmaktır. #Socrates\n",
    "\n",
    "İnsan iyi şeyler üzerine düşündükçe hem kendi dünyası, hem de tüm dünya daha iyi bir hale gelir. #Confucius\n",
    "\n",
    "İnsanoğluna bahşedilmiş en büyük nimet, içimizde ve ulaşabileceğimiz yerdedir. Bilge bir kişi sahip olmadığını arzulamak yerine, her ne olursa olsun kendinde olanla mutlu olmayı bilir. #Seneca\n",
    "\n",
    "Mutsuzsan, geçmişte yaşıyorsun. Endişeliysen, gelecekte yaşıyorsun. Huzurluysan, şu anda yaşıyorsun. #Lao Tzu\n",
    "\n",
    "Hayat, çözülmesi gereken bir problem değil; deneyimlenmesi gereken bir gerçekliktir. #Søren Kierkegaard\n",
    "\n",
    "Mutluluk, kelebeğe benzer. Siz yakalamaya çalıştıkça o, kaçıp gider. Ne zaman ki dikkatinizi farklı şeylere verirsiniz, ancak o zaman gelir ve omzunuza konar. #Henry David Thoreau\n",
    "\n",
    "Bizi mutlu eden bir şeyin sαhibi olmαk değil, tαdınα vαrmαktır. #Montaigne\n",
    "\n",
    "Mutlu bir hαyαt istiyorsαnız hαyαtınızı bir αmαcα bαğlαyın, kişilere veyα eşyαlαrα değil. #Αlbert Einstein\n",
    "\n",
    "Bαşαrı, istediğini elde etmektir, mutluluk ise elde ettiğini sevmektir. #La Fontaine\n",
    "\n",
    "Mutlu mu olmαk istiyorsun? Kimseden bir şey bekleme. #Bob Marley\n",
    "\n",
    "Ne kadar mutlu olmaya karar vermişseniz, o kadar mutlu olursunuz. #Abraham Lincoln\n",
    "\n",
    "Mutluluk daima yakınımızdadır, yakalamak için çoğu zaman elimizi uzatmak yeter. #George Sand\n",
    "\n",
    "Mutluluk varılacak bir yer değil, yolculuğun kendisidir. #Ralph Waldo Emerson\n",
    "\n",
    "Her ne zaman gülmek için bir fırsat olsa, ona katıl. Her ne zaman dans etmek için, bir fırsat olsa ona katıl. Her ne zaman şarkı söylemek için bir fırsat olsa, söyle. Ve bir gün yarattığın mutluluğu bulacaksın. #Osho\n",
    "\"\"\""
   ]
  },
  {
   "cell_type": "code",
   "execution_count": 306,
   "metadata": {},
   "outputs": [],
   "source": [
    "#Ask\n",
    "AskYazar = []\n",
    "AskSoz = [soz for soz in Ask.split('\\n') if soz != '']  #ozlu sozleri birbirinden ayirdik\n",
    "\n",
    "for yazar in range(len(AskSoz)):\n",
    "    AskYazar.append(AskSoz[yazar].split('#', 1)[1]) #her bir cumlenin sonunda yer alan ve # isaretinden sonra olan yazar ismini aldik\n",
    "\n",
    "for soz in range(len(AskSoz)):\n",
    "    AskSoz[soz] = AskSoz[soz].split('#', 1)[0]  #sozlerin icinde yer alan yazar isimlerini cikardik\n",
    "\n",
    "#Mutluluk\n",
    "MutlulukYazar = []\n",
    "\n",
    "MutlulukSoz = [soz for soz in Mutluluk.split('\\n') if soz != '']\n",
    "\n",
    "for yazar in range(len(MutlulukSoz)):\n",
    "    MutlulukYazar.append(MutlulukSoz[yazar].split('#', 1)[1])\n",
    "\n",
    "for soz in range(len(MutlulukSoz)):\n",
    "    MutlulukSoz[soz] = MutlulukSoz[soz].split('#', 1)[0]\n",
    "\n",
    "\n",
    "sozler = AskSoz + MutlulukSoz\n",
    "kategoriler = ['Ask'] * len(AskSoz) + ['Mutluluk'] * len(MutlulukSoz)\n",
    "yazarlar = AskYazar + MutlulukYazar\n",
    "\n",
    "veri = pd.DataFrame({\"Sozler\": sozler, \"Kategori\": kategoriler, \"Yazar\": yazarlar})\n",
    "veri.head(4)\n",
    "#veri.to_csv('export_dataframe.csv', index = True, header=True)"
   ]
  },
  {
   "cell_type": "code",
   "execution_count": 307,
   "metadata": {},
   "outputs": [
    {
     "ename": "NameError",
     "evalue": "name 'replikler' is not defined",
     "output_type": "error",
     "traceback": [
      "\u001b[0;31m---------------------------------------------------------------------------\u001b[0m",
      "\u001b[0;31mNameError\u001b[0m                                 Traceback (most recent call last)",
      "\u001b[0;32m<ipython-input-307-0734a4a5680f>\u001b[0m in \u001b[0;36m<module>\u001b[0;34m\u001b[0m\n\u001b[0;32m----> 1\u001b[0;31m \u001b[0;32mfor\u001b[0m \u001b[0mi\u001b[0m \u001b[0;32min\u001b[0m \u001b[0mrange\u001b[0m\u001b[0;34m(\u001b[0m\u001b[0mlen\u001b[0m\u001b[0;34m(\u001b[0m\u001b[0mreplikler\u001b[0m\u001b[0;34m)\u001b[0m\u001b[0;34m)\u001b[0m\u001b[0;34m:\u001b[0m\u001b[0;34m\u001b[0m\u001b[0;34m\u001b[0m\u001b[0m\n\u001b[0m\u001b[1;32m      2\u001b[0m   \u001b[0mreplikler\u001b[0m\u001b[0;34m[\u001b[0m\u001b[0mi\u001b[0m\u001b[0;34m]\u001b[0m \u001b[0;34m=\u001b[0m \u001b[0mreplikler\u001b[0m\u001b[0;34m[\u001b[0m\u001b[0mi\u001b[0m\u001b[0;34m]\u001b[0m\u001b[0;34m.\u001b[0m\u001b[0msplit\u001b[0m\u001b[0;34m(\u001b[0m\u001b[0;34m\"\\n\"\u001b[0m\u001b[0;34m)\u001b[0m\u001b[0;34m\u001b[0m\u001b[0;34m\u001b[0m\u001b[0m\n\u001b[1;32m      3\u001b[0m \u001b[0;34m\u001b[0m\u001b[0m\n\u001b[1;32m      4\u001b[0m \u001b[0mdf\u001b[0m \u001b[0;34m=\u001b[0m \u001b[0mpd\u001b[0m\u001b[0;34m.\u001b[0m\u001b[0mDataFrame\u001b[0m\u001b[0;34m(\u001b[0m\u001b[0mcolumns\u001b[0m\u001b[0;34m=\u001b[0m\u001b[0;34m[\u001b[0m\u001b[0;34m\"Replikler\"\u001b[0m\u001b[0;34m,\u001b[0m \u001b[0;34m\"Kisiler\"\u001b[0m\u001b[0;34m]\u001b[0m\u001b[0;34m)\u001b[0m\u001b[0;34m\u001b[0m\u001b[0;34m\u001b[0m\u001b[0m\n\u001b[1;32m      5\u001b[0m \u001b[0;34m\u001b[0m\u001b[0m\n",
      "\u001b[0;31mNameError\u001b[0m: name 'replikler' is not defined"
     ]
    }
   ],
   "source": [
    "for i in range(len(replikler)):\n",
    "  replikler[i] = replikler[i].split(\"\\n\")\n",
    "\n",
    "df = pd.DataFrame(columns=[\"Replikler\", \"Kisiler\"])\n",
    "\n",
    "for i in range(len(kisiler)):\n",
    "    for j in range(len(replikler[i])):\n",
    "      df = df.append({'Replikler' : replikler[i][j], 'Kisiler' : kisiler[i]}, ignore_index=True)\n",
    "    df = df[df['Replikler'] != \"\"]\n",
    "    df.reset_index(drop=True, inplace=True)\n",
    "\n",
    "df[\"temizReplikler\"] = df['Replikler'].copy()\n",
    "\n",
    "for i in range(len(df)):\n",
    "    df[\"temizReplikler\"][i] = df[\"temizReplikler\"][i].lower()\n",
    "    df[\"temizReplikler\"][i] = re.sub('[!@#’‘?.,\\'$]', '', df[\"temizReplikler\"][i])"
   ]
  },
  {
   "cell_type": "code",
   "execution_count": null,
   "metadata": {},
   "outputs": [],
   "source": [
    "def jaccardSimilarity(list1, list2):\n",
    "  return float(len(list(set(list1).intersection(list2)))) / len(list(set(list1).union(list2)))"
   ]
  },
  {
   "cell_type": "code",
   "execution_count": null,
   "metadata": {},
   "outputs": [],
   "source": [
    "def recomendation_random_jaccard(girdi):\n",
    "    jaccard_score_list = []\n",
    "\n",
    "    if len(girdi.split()) > 1:\n",
    "        for i in range(len(df)):\n",
    "            jaccard_score_list.append(jaccardSimilarity(df[\"temizReplikler\"][i], girdi))        \n",
    "            maxIndex = jaccard_score_list.index(max(jaccard_score_list))\n",
    "            recommendation = df['Replikler'][maxIndex]\n",
    "\n",
    "        return recommendation\n",
    "\n",
    "    else:\n",
    "        if(girdi in kisiler):\n",
    "            recommendation = df[\"Replikler\"][df[\"Kisiler\"] == girdi].sample(n=1).values[0]\n",
    "\n",
    "            return recommendation\n",
    "        else: # rastgele bir replik dondurulur\n",
    "            recommendation = df[\"Replikler\"].sample(n=1).values[0]\n",
    "            \n",
    "        return recommendation\n"
   ]
  },
  {
   "cell_type": "code",
   "execution_count": null,
   "metadata": {},
   "outputs": [
    {
     "name": "stderr",
     "output_type": "stream",
     "text": [
      "2021-11-11 19:15:18.020 \n",
      "  \u001b[33m\u001b[1mWarning:\u001b[0m to view this Streamlit app on a browser, run it with the following\n",
      "  command:\n",
      "\n",
      "    streamlit run /Users/eceyucer/anaconda3/lib/python3.8/site-packages/ipykernel_launcher.py [ARGUMENTS]\n"
     ]
    },
    {
     "data": {
      "text/plain": [
       "DeltaGenerator(_root_container=0, _provided_cursor=None, _parent=None, _block_type=None, _form_data=None)"
      ]
     },
     "execution_count": 18,
     "metadata": {},
     "output_type": "execute_result"
    }
   ],
   "source": [
    "# -- Streamlit --\n",
    "# st.video(\"https://www.youtube.com/watch?v=8w1lL3DHvR8\") # sinan\n",
    "# st.video(\"https://www.youtube.com/watch?v=hKj7hXxtvLU\") # ali kemal\n",
    "# st.video(\"https://www.youtube.com/watch?v=O7TmGQzDhN8\") # şaziment\n",
    "st.title(\"Akasya Durağı\")\n",
    "girdi = st.text_input(\"Tarafını seç, karakterini tut\", help=\"Karakterler\\n\\n- Ali Kemal\\n- Usman Aga\\n - Sinan\\n- Şaziment\\n- Gülbin\\n- Fato Aney\\n- Tahir Baba\\n- Seyit\")\n",
    "st.write(recomendation_random_jaccard(str(girdi).lower()))\n",
    "\n",
    "st.video(\"https://www.youtube.com/watch?v=5devNYg1TVs\") # usman aga"
   ]
  }
 ],
 "metadata": {
  "interpreter": {
   "hash": "c9700a648ac2dcd2607f7c188007b341aa179068216c747ff6cbd4fd5b640aa7"
  },
  "kernelspec": {
   "display_name": "Python 3.8.8 64-bit ('base': conda)",
   "language": "python",
   "name": "python3"
  },
  "language_info": {
   "codemirror_mode": {
    "name": "ipython",
    "version": 3
   },
   "file_extension": ".py",
   "mimetype": "text/x-python",
   "name": "python",
   "nbconvert_exporter": "python",
   "pygments_lexer": "ipython3",
   "version": "3.8.8"
  },
  "orig_nbformat": 4
 },
 "nbformat": 4,
 "nbformat_minor": 2
}
