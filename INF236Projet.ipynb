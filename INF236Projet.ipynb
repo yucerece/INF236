{
 "cells": [
  {
   "cell_type": "code",
   "execution_count": 1,
   "metadata": {},
   "outputs": [],
   "source": [
    "import streamlit as st\n",
    "import pandas as pd\n",
    "import re"
   ]
  },
  {
   "cell_type": "code",
   "execution_count": 2,
   "metadata": {},
   "outputs": [],
   "source": [
    "usman_aga = \"\"\"\n",
    "Bree susak \n",
    "Nuri kardeşlik ben bi safiyeyi öldüreyim geleyim \n",
    "Sus Bana Baba Deme Bana Baba Demee  \n",
    "La susak sinan senin ne işin var burada... \n",
    "Ulan safiye! Rumelinin şişmanı osman aganın düşmanı \n",
    "Ben Usman Aga. \n",
    "Ben avrupalı yağlı pehlivan Osman Şentürk \n",
    "Neka güzel neka güzel \n",
    "Oka iyiyim oka iyiyim ki \n",
    "Oka mutluyum oka mutluyum ki oka olur yani \n",
    "Üçkağıtçı Sinan. \n",
    "Susak Sinan \n",
    "Seninle bir güreş tutalım \n",
    "Rusman aga \n",
    "Kadından taksi şoförü olmaaaaz. \n",
    "Arkadaşlar \n",
    "Ben bir Avrupalı olarak... \n",
    "Ben bir Avrupalıyım. \n",
    "Kara kızan \n",
    "Yağlı pehlivan Osman Aga \n",
    "Susak Ali Kemal \n",
    "Tepemin tasını artırma \n",
    "Nuri kardeşlik \n",
    "Sinancık \n",
    "Leylacık \n",
    "Ramazan baba \n",
    "Üçkağıtçı Safiye \n",
    "Safiyeeeee \n",
    "Ukela Safiye \n",
    "Dileeek kızımm \n",
    "Ali Kemal bana bir çay getir \n",
    "Bu Safiye ölüm sebebim olacak \n",
    "Susak sen kendini akıllı sanırsın üle mi susak \n",
    "Ben gidiyim ondan sonra geliyim \n",
    "Birinin telefonu çalar duruu \n",
    "Ben yağlı güreşçi Osman Aga \n",
    "Kızan \n",
    "Kızçe \n",
    "Kara Kızan \n",
    "Dilek susağı \n",
    "Bana bak kız senin bacaklarını kırarım. \n",
    "Çınar kerestesi \n",
    "Benimkiler mevludden mevlude \n",
    "Seyidi kaçırmışlar \n",
    "Cana geliceğine mala gelsin \n",
    "ula susak \n",
    "\"\"\"                         "
   ]
  },
  {
   "cell_type": "code",
   "execution_count": 3,
   "metadata": {},
   "outputs": [],
   "source": [
    "sinan = \"\"\"\n",
    "Tırın tırın tırın \n",
    "Ben Sinan. Ünlü Türk şoförü Sinan \n",
    "Akasya Durağı ve onun değerli şoför kardeşleri. \n",
    "Eğze bak eğze. \n",
    "Adım sinan kaya. Memleket kartal kaya geldim buraya kaya kayaadın kaya yüregim yara beni anlarsanız kalmazsınız yaya \n",
    "Vicdansız Şaaaaaazımant Şaaaaanzımant. \n",
    "Gülibik Nolur beni affet. \n",
    "Hep o Şanzımant cadısı yüzünden. \n",
    "Ulan bücürük. \n",
    "Ali kefal çay getir bize \n",
    "Kaygana\n",
    "Yav Arifim Tarifim Güzel Kardeşim\n",
    "Eğze bak eğze\n",
    "Arifim tarifim yemek tarifim \n",
    "Eşşek sıpası  \n",
    "Can afacan şakraban. okkabal \n",
    "Sıpa can \n",
    "Şanzimentus Kayganayus \n",
    "Benim adim Sinan Kaya \n",
    "\n",
    "Kovdu beni cadi kaygana \n",
    "Peşinden de Nuri baba \n",
    "Baba baba baba \n",
    "benim adım Sinan Kaya kovdu cadı kaynana ben nerde yatacağım baba, baba, baba Buda Geliiiir Bu da Geçeeeer... iki orta bi sade hadi bana müsadee \n",
    "\n",
    "Böğrüme vurdular böğrüm ağrıyor karnıma vurdular karnım ağrıyor \n",
    "Dingilin çantası \n",
    "Sayfiye yenge \n",
    "Osprik aga \n",
    "Sen bana para vercen mi,vermicen mi \n",
    "Kara Cumayı dilekle evlendirecem \n",
    "Para var mı sende, para \n",
    "iki orta bir sade hadi bana müsade \n",
    "ipəəm Böcəəəm Çiçəəəm \n",
    "Yeni cocuk \n",
    "O zaman Uliyim ben uliyim uliyim \n",
    "Hadi bağalım oh oh hadi bağalım oh oh \n",
    "ficdansız şazimant şaaaaaaaziment \n",
    "adım sian kaya kısaca ekmek kadyıfı diyebilirsiniz \n",
    "can afacan şakraban arkadaşı serkan afacanlar \n",
    "\"\"\""
   ]
  },
  {
   "cell_type": "code",
   "execution_count": 4,
   "metadata": {},
   "outputs": [],
   "source": [
    "fato_aney = \"\"\"\n",
    "çırpısız seyrek \n",
    "Taş yigidim. \n",
    "istanbul'a gelince bir sosyete olmuşsan. \n",
    "Bak bak bak bak. \n",
    "Benim manyak oğlum \n",
    "Benim manyak gelinim \n",
    "Döşü kıllı herif isterem \n",
    "Jéniffer Lopéz \n",
    "Döşünün kıllarına kurban olam \n",
    "Tarlayı taşlı yerden avradı kardaşlı yerden almak lazım. \n",
    "Dohumu sağlam olsin istirem  \n",
    "döşü kıllımidir? \n",
    "biye erkek bebe vereceksen haaaa\n",
    "vışşşşşşşş neyy \n",
    "\"\"\""
   ]
  },
  {
   "cell_type": "code",
   "execution_count": 5,
   "metadata": {},
   "outputs": [],
   "source": [
    "saziment =\"\"\"\n",
    "Paralara bak paralara. \n",
    "Ex-Damat. \n",
    "Sevgili damadım.\n",
    "Hamile kalan Şükran kızı Hülya. \n",
    "becereksiz \n",
    "babası kılıklı \n",
    "canım damadım senin karnın açmı? \n",
    "kız gülbin kocan hakında öyle konuşma \n",
    "sinaaaan defol \n",
    "çeke çeke babasına çekdi çekim hatası \n",
    "defoooolll \n",
    "ayyyyyyyyyy canım damadım açmısın yemek hazırlıyayımmı \n",
    "\"\"\""
   ]
  },
  {
   "cell_type": "code",
   "execution_count": 6,
   "metadata": {},
   "outputs": [],
   "source": [
    "gulbin = \"\"\"\n",
    "Sinaaaaaaan. \n",
    "Sinaan. \n",
    "Daha neyi açıklıcaksın Sinaaan. \n",
    "Aslan kocam benim (Sinan bir kahramanlık veye para kazandığında) \n",
    "Ay ben naaparıım... \n",
    "Sinan kadınların peşinden koşuncannnnn haaaaaaaa... \n",
    "bu sefer seni bosuyacam sinannnn\n",
    "\"\"\""
   ]
  },
  {
   "cell_type": "code",
   "execution_count": 7,
   "metadata": {},
   "outputs": [],
   "source": [
    "ali_kemal = \"\"\"\n",
    "Aslunda adım Ali Kemal ama siz bana kısaça Alpaçino Ali Kemal diyebilursunuz. \n",
    "Sinan api bile kız buldu ben hala bulamadum. \n",
    "Tamam Ramazan Babacuğum hemen. \n",
    "\n",
    "Haçan ben bu iti gezdurecem Nuri babacugum. \n",
    "Uyy Nuri babacuğum \n",
    "Tamam sinan abiniğum \n",
    "Trabzonspor'un Efsanesi Şenol Güneşi Tanımadızmı? \n",
    "ula bu kızlar benden niye kaçi daaa \n",
    "narinummm (Narin ona kızınca bağırınca) \n",
    "ula hamsi kafali sen nedersun ha orda \n",
    "ula hergün dayak yerim bu narinden adı gibi narin deyülki kurtar beni nuri baba... \n",
    "Nuri Babacğuuuumm Nuri Babacuğuuummm \n",
    "alpaçinooo balpaçinooo gülpaçinooo [araba yıkarken söyledigi sarkı sözü] \n",
    "uyyyyyyyyyyyyyyyyy narinüüüüüüüm hamsi kafalı uçkağitçı yalancı düenbaz sian abicummmmmmmm \n",
    "Doğan \n",
    "\n",
    "Lan ben seni sevmedi leng \n",
    "\n",
    "indiriyimmi babaa? indirimmi yenge? Döveyimmi bunu? \n",
    "Tahir Baba birini indirirken ona yılan bile dokunamaz \n",
    "\"\"\""
   ]
  },
  {
   "cell_type": "code",
   "execution_count": 8,
   "metadata": {},
   "outputs": [],
   "source": [
    "tahir_baba = \"\"\"\n",
    "Sinan sütlaçı bozuk revani \n",
    "Sinan efendi \n",
    "Döveyimmi bunu Şaziment Hanım? \n",
    "Şinan efendi yaptıkların yanına kar mı kalacak sandın dur lan salak\n",
    "\"\"\""
   ]
  },
  {
   "cell_type": "code",
   "execution_count": 9,
   "metadata": {},
   "outputs": [],
   "source": [
    "seyit = \"\"\"\n",
    "Nasılsın agam \n",
    "Töbe töbe yaf \n",
    "Zeynoom \n",
    "Boy boy bebelerimiz olacak hemi \n",
    "Allah siye sabır versin \n",
    "Seni çok seviyem zeynom \n",
    "Siye almışam \n",
    "Kendimi denize atacam  \n",
    "Yav aney \n",
    "Ben zeynoyu seviyem, başka avrat istemiyem. \n",
    "nasılsan arif kurban \n",
    "hııııııı anlamışam\n",
    "\"\"\""
   ]
  },
  {
   "cell_type": "code",
   "execution_count": 14,
   "metadata": {},
   "outputs": [],
   "source": [
    "replikler = [ali_kemal, usman_aga, sinan, saziment, gulbin, fato_aney, tahir_baba, seyit]\n",
    "kisiler = [\"ali_kemal\", \"usman_aga\", \"sinan\", \"saziment\", \"gulbin\", \"fato_aney\", \"tahir_baba\", \"seyit\"]"
   ]
  },
  {
   "cell_type": "code",
   "execution_count": 29,
   "metadata": {},
   "outputs": [
    {
     "ename": "AttributeError",
     "evalue": "'list' object has no attribute 'split'",
     "output_type": "error",
     "traceback": [
      "\u001b[0;31m---------------------------------------------------------------------------\u001b[0m",
      "\u001b[0;31mAttributeError\u001b[0m                            Traceback (most recent call last)",
      "\u001b[0;32m<ipython-input-29-f9968310e526>\u001b[0m in \u001b[0;36m<module>\u001b[0;34m\u001b[0m\n\u001b[1;32m      1\u001b[0m \u001b[0;32mfor\u001b[0m \u001b[0mi\u001b[0m \u001b[0;32min\u001b[0m \u001b[0mrange\u001b[0m\u001b[0;34m(\u001b[0m\u001b[0mlen\u001b[0m\u001b[0;34m(\u001b[0m\u001b[0mreplikler\u001b[0m\u001b[0;34m)\u001b[0m\u001b[0;34m)\u001b[0m\u001b[0;34m:\u001b[0m\u001b[0;34m\u001b[0m\u001b[0;34m\u001b[0m\u001b[0m\n\u001b[0;32m----> 2\u001b[0;31m   \u001b[0mreplikler\u001b[0m\u001b[0;34m[\u001b[0m\u001b[0mi\u001b[0m\u001b[0;34m]\u001b[0m \u001b[0;34m=\u001b[0m \u001b[0mreplikler\u001b[0m\u001b[0;34m[\u001b[0m\u001b[0mi\u001b[0m\u001b[0;34m]\u001b[0m\u001b[0;34m.\u001b[0m\u001b[0msplit\u001b[0m\u001b[0;34m(\u001b[0m\u001b[0;34m\"\\n\"\u001b[0m\u001b[0;34m)\u001b[0m\u001b[0;34m\u001b[0m\u001b[0;34m\u001b[0m\u001b[0m\n\u001b[0m\u001b[1;32m      3\u001b[0m \u001b[0;34m\u001b[0m\u001b[0m\n\u001b[1;32m      4\u001b[0m \u001b[0mdf\u001b[0m \u001b[0;34m=\u001b[0m \u001b[0mpd\u001b[0m\u001b[0;34m.\u001b[0m\u001b[0mDataFrame\u001b[0m\u001b[0;34m(\u001b[0m\u001b[0mcolumns\u001b[0m\u001b[0;34m=\u001b[0m\u001b[0;34m[\u001b[0m\u001b[0;34m\"Replikler\"\u001b[0m\u001b[0;34m,\u001b[0m \u001b[0;34m\"Kisiler\"\u001b[0m\u001b[0;34m]\u001b[0m\u001b[0;34m)\u001b[0m\u001b[0;34m\u001b[0m\u001b[0;34m\u001b[0m\u001b[0m\n\u001b[1;32m      5\u001b[0m \u001b[0;32mfor\u001b[0m \u001b[0mi\u001b[0m \u001b[0;32min\u001b[0m \u001b[0mrange\u001b[0m\u001b[0;34m(\u001b[0m\u001b[0mlen\u001b[0m\u001b[0;34m(\u001b[0m\u001b[0mkisiler\u001b[0m\u001b[0;34m)\u001b[0m\u001b[0;34m)\u001b[0m\u001b[0;34m:\u001b[0m\u001b[0;34m\u001b[0m\u001b[0;34m\u001b[0m\u001b[0m\n",
      "\u001b[0;31mAttributeError\u001b[0m: 'list' object has no attribute 'split'"
     ]
    }
   ],
   "source": [
    "for i in range(len(replikler)):\n",
    "  replikler[i] = replikler[i].split(\"\\n\")\n",
    "\n",
    "df = pd.DataFrame(columns=[\"Replikler\", \"Kisiler\"])\n",
    "for i in range(len(kisiler)):\n",
    "    for j in range(len(replikler[i])):\n",
    "      df = df.append({'Replikler' : replikler[i][j], 'Kisiler' : kisiler[i]}, ignore_index=True)\n",
    "      df = df[df['Replikler'] != \"\"]\n",
    "      df.reset_index(drop=True, inplace=True)\n",
    "\n",
    "df[\"temizRepliler\"] = df['Replikler'].copy()\n",
    "\n",
    "for i in range(len(df)):\n",
    "    df[\"temizReplikler\"][i] = re.sub('[!@#’‘?.,\\'$]', '', df[\"temizReplikler\"][i])\n",
    "    df[\"temizReplikler\"][i] = df[\"temizReplikler\"][i].lower()"
   ]
  },
  {
   "cell_type": "code",
   "execution_count": 16,
   "metadata": {},
   "outputs": [],
   "source": [
    "def jaccardSimilarity(list1, list2):\n",
    "  return float(len(list(set(list1).intersection(list2)))) / len(list(set(list1).union(list2)))"
   ]
  },
  {
   "cell_type": "code",
   "execution_count": 17,
   "metadata": {},
   "outputs": [],
   "source": [
    "def recomendation_random_jaccard():\n",
    "    jaccard_score_list = []\n",
    "    girdi = input(\"Tarafini sec: Karakterin hangisi?\" + kisiler + \"\\n\\tAnswer: \")\n",
    "    girdi = girdi.lower()\n",
    "\n",
    "    if len(girdi.split()) > 1:\n",
    "        for i in range(len(df)):\n",
    "            jaccard_score_list.append(jaccardSimilarity(df[\"temizReplikler\"][i], girdi))        \n",
    "            maxIndex = jaccard_score_list.index(max(jaccard_score_list))\n",
    "            recommendation = df['Replikler'][maxIndex]\n",
    "\n",
    "        return recommendation\n",
    "\n",
    "    else:\n",
    "        if(girdi in kisiler):\n",
    "            recommendation = df[\"Replikler\"][df[\"Kisiler\"] == girdi].sample(n=1).values[0]\n",
    "\n",
    "            return recommendation\n",
    "        else: # rastgele bir replik dondurulur\n",
    "            recommendation = df[\"Replikler\"].sample(n=1).values[0]\n",
    "            \n",
    "        return recommendation"
   ]
  },
  {
   "cell_type": "code",
   "execution_count": 18,
   "metadata": {},
   "outputs": [
    {
     "name": "stderr",
     "output_type": "stream",
     "text": [
      "2021-11-11 19:15:18.020 \n",
      "  \u001b[33m\u001b[1mWarning:\u001b[0m to view this Streamlit app on a browser, run it with the following\n",
      "  command:\n",
      "\n",
      "    streamlit run /Users/eceyucer/anaconda3/lib/python3.8/site-packages/ipykernel_launcher.py [ARGUMENTS]\n"
     ]
    },
    {
     "data": {
      "text/plain": [
       "DeltaGenerator(_root_container=0, _provided_cursor=None, _parent=None, _block_type=None, _form_data=None)"
      ]
     },
     "execution_count": 18,
     "metadata": {},
     "output_type": "execute_result"
    }
   ],
   "source": [
    "st.title(\"akasya Duragi\")"
   ]
  }
 ],
 "metadata": {
  "interpreter": {
   "hash": "c9700a648ac2dcd2607f7c188007b341aa179068216c747ff6cbd4fd5b640aa7"
  },
  "kernelspec": {
   "display_name": "Python 3.8.8 64-bit ('base': conda)",
   "language": "python",
   "name": "python3"
  },
  "language_info": {
   "codemirror_mode": {
    "name": "ipython",
    "version": 3
   },
   "file_extension": ".py",
   "mimetype": "text/x-python",
   "name": "python",
   "nbconvert_exporter": "python",
   "pygments_lexer": "ipython3",
   "version": "3.8.8"
  },
  "orig_nbformat": 4
 },
 "nbformat": 4,
 "nbformat_minor": 2
}
